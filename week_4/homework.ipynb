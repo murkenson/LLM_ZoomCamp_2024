{
 "cells": [
  {
   "cell_type": "code",
   "execution_count": 14,
   "id": "6181c521-880a-4d93-b454-834a0f1addf5",
   "metadata": {},
   "outputs": [],
   "source": [
    "import pandas as pd\n",
    "import numpy as np\n",
    "from rouge import Rouge\n",
    "\n",
    "from sentence_transformers import SentenceTransformer\n"
   ]
  },
  {
   "cell_type": "code",
   "execution_count": 2,
   "id": "daa43162-6a51-4609-9c2c-3e6513c7d5a3",
   "metadata": {},
   "outputs": [],
   "source": [
    "github_url = 'https://github.com/DataTalksClub/llm-zoomcamp/blob/main/04-monitoring/data/results-gpt4o-mini.csv'"
   ]
  },
  {
   "cell_type": "code",
   "execution_count": 3,
   "id": "e2e37a67-a4f0-4c06-b538-e541313b863f",
   "metadata": {},
   "outputs": [],
   "source": [
    "url = f'{github_url}?raw=1'\n",
    "df = pd.read_csv(url)"
   ]
  },
  {
   "cell_type": "code",
   "execution_count": 4,
   "id": "eace9984-5ef1-4172-8a80-ef30395b3d92",
   "metadata": {},
   "outputs": [],
   "source": [
    "df = df.iloc[:300]"
   ]
  },
  {
   "cell_type": "markdown",
   "id": "9ae3e0b5-b145-4a99-ae2b-39940c4746b0",
   "metadata": {},
   "source": [
    "## Q1. Getting the embeddings model\n",
    "\n",
    "Now, get the embeddings model `multi-qa-mpnet-base-dot-v1` from\n",
    "[the Sentence Transformer library](https://www.sbert.net/docs/sentence_transformer/pretrained_models.html#model-overview)\n",
    "\n",
    "> Note: this is not the same model as in HW3\n",
    "\n",
    "```bash\n",
    "from sentence_transformers import SentenceTransformer\n",
    "embedding_model = SentenceTransformer(model_name)\n",
    "```\n",
    "\n",
    "Create the embeddings for the first LLM answer:\n",
    "\n",
    "```python\n",
    "answer_llm = df.iloc[0].answer_llm\n",
    "```\n",
    "\n",
    "What's the first value of the resulting vector?\n",
    "\n",
    "* **-0.42**\n",
    "* -0.22\n",
    "* -0.02\n",
    "* 0.21"
   ]
  },
  {
   "cell_type": "code",
   "execution_count": 5,
   "id": "6bf7b179-8eaa-4f29-b5b6-8867284b636f",
   "metadata": {},
   "outputs": [],
   "source": [
    "model_name = 'multi-qa-mpnet-base-dot-v1'\n",
    "\n",
    "embedding_model = SentenceTransformer(model_name)"
   ]
  },
  {
   "cell_type": "code",
   "execution_count": 6,
   "id": "bda31d20-4ed6-4e4b-8c7e-79fe8d43b435",
   "metadata": {},
   "outputs": [],
   "source": [
    "answer_llm = df.iloc[0].answer_llm\n",
    "embeddings = embedding_model.encode(answer_llm)"
   ]
  },
  {
   "cell_type": "code",
   "execution_count": 7,
   "id": "e702efd9-fd84-45f1-8111-6a3988ebb6d5",
   "metadata": {},
   "outputs": [
    {
     "name": "stdout",
     "output_type": "stream",
     "text": [
      "The first value of the resulting vector is: -0.4224465489387512\n"
     ]
    }
   ],
   "source": [
    "first_value = embeddings[0]\n",
    "print(f\"The first value of the resulting vector is: {first_value}\")"
   ]
  },
  {
   "cell_type": "markdown",
   "id": "124890f8-0fea-4624-b3f1-44e5645f967e",
   "metadata": {},
   "source": [
    "## Q2. Computing the dot product\n",
    "\n",
    "\n",
    "Now for each answer pair, let's create embeddings and compute dot product between them\n",
    "\n",
    "We will put the results (scores) into the `evaluations` list\n",
    "\n",
    "What's the 75% percentile of the score?\n",
    "\n",
    "* 21.67\n",
    "* **31.67**\n",
    "* 41.67\n",
    "* 51.67"
   ]
  },
  {
   "cell_type": "code",
   "execution_count": 8,
   "id": "b6212f2d-b694-4d98-bd0d-aa65a782a02d",
   "metadata": {},
   "outputs": [],
   "source": [
    "def compute_dot_product(emb1, emb2):\n",
    "    return np.dot(emb1, emb2)"
   ]
  },
  {
   "cell_type": "code",
   "execution_count": 10,
   "id": "2a25f8be-d72f-4e00-b75d-5bdad2c2560c",
   "metadata": {},
   "outputs": [
    {
     "data": {
      "text/html": [
       "<div>\n",
       "<style scoped>\n",
       "    .dataframe tbody tr th:only-of-type {\n",
       "        vertical-align: middle;\n",
       "    }\n",
       "\n",
       "    .dataframe tbody tr th {\n",
       "        vertical-align: top;\n",
       "    }\n",
       "\n",
       "    .dataframe thead th {\n",
       "        text-align: right;\n",
       "    }\n",
       "</style>\n",
       "<table border=\"1\" class=\"dataframe\">\n",
       "  <thead>\n",
       "    <tr style=\"text-align: right;\">\n",
       "      <th></th>\n",
       "      <th>answer_llm</th>\n",
       "      <th>answer_orig</th>\n",
       "      <th>document</th>\n",
       "      <th>question</th>\n",
       "      <th>course</th>\n",
       "    </tr>\n",
       "  </thead>\n",
       "  <tbody>\n",
       "    <tr>\n",
       "      <th>0</th>\n",
       "      <td>You can sign up for the course by visiting the...</td>\n",
       "      <td>Machine Learning Zoomcamp FAQ\\nThe purpose of ...</td>\n",
       "      <td>0227b872</td>\n",
       "      <td>Where can I sign up for the course?</td>\n",
       "      <td>machine-learning-zoomcamp</td>\n",
       "    </tr>\n",
       "    <tr>\n",
       "      <th>1</th>\n",
       "      <td>You can sign up using the link provided in the...</td>\n",
       "      <td>Machine Learning Zoomcamp FAQ\\nThe purpose of ...</td>\n",
       "      <td>0227b872</td>\n",
       "      <td>Can you provide a link to sign up?</td>\n",
       "      <td>machine-learning-zoomcamp</td>\n",
       "    </tr>\n",
       "    <tr>\n",
       "      <th>2</th>\n",
       "      <td>Yes, there is an FAQ for the Machine Learning ...</td>\n",
       "      <td>Machine Learning Zoomcamp FAQ\\nThe purpose of ...</td>\n",
       "      <td>0227b872</td>\n",
       "      <td>Is there an FAQ for this Machine Learning course?</td>\n",
       "      <td>machine-learning-zoomcamp</td>\n",
       "    </tr>\n",
       "    <tr>\n",
       "      <th>3</th>\n",
       "      <td>The context does not provide any specific info...</td>\n",
       "      <td>Machine Learning Zoomcamp FAQ\\nThe purpose of ...</td>\n",
       "      <td>0227b872</td>\n",
       "      <td>Does this course have a GitHub repository for ...</td>\n",
       "      <td>machine-learning-zoomcamp</td>\n",
       "    </tr>\n",
       "    <tr>\n",
       "      <th>4</th>\n",
       "      <td>To structure your questions and answers for th...</td>\n",
       "      <td>Machine Learning Zoomcamp FAQ\\nThe purpose of ...</td>\n",
       "      <td>0227b872</td>\n",
       "      <td>How can I structure my questions and answers f...</td>\n",
       "      <td>machine-learning-zoomcamp</td>\n",
       "    </tr>\n",
       "  </tbody>\n",
       "</table>\n",
       "</div>"
      ],
      "text/plain": [
       "                                          answer_llm  \\\n",
       "0  You can sign up for the course by visiting the...   \n",
       "1  You can sign up using the link provided in the...   \n",
       "2  Yes, there is an FAQ for the Machine Learning ...   \n",
       "3  The context does not provide any specific info...   \n",
       "4  To structure your questions and answers for th...   \n",
       "\n",
       "                                         answer_orig  document  \\\n",
       "0  Machine Learning Zoomcamp FAQ\\nThe purpose of ...  0227b872   \n",
       "1  Machine Learning Zoomcamp FAQ\\nThe purpose of ...  0227b872   \n",
       "2  Machine Learning Zoomcamp FAQ\\nThe purpose of ...  0227b872   \n",
       "3  Machine Learning Zoomcamp FAQ\\nThe purpose of ...  0227b872   \n",
       "4  Machine Learning Zoomcamp FAQ\\nThe purpose of ...  0227b872   \n",
       "\n",
       "                                            question  \\\n",
       "0                Where can I sign up for the course?   \n",
       "1                 Can you provide a link to sign up?   \n",
       "2  Is there an FAQ for this Machine Learning course?   \n",
       "3  Does this course have a GitHub repository for ...   \n",
       "4  How can I structure my questions and answers f...   \n",
       "\n",
       "                      course  \n",
       "0  machine-learning-zoomcamp  \n",
       "1  machine-learning-zoomcamp  \n",
       "2  machine-learning-zoomcamp  \n",
       "3  machine-learning-zoomcamp  \n",
       "4  machine-learning-zoomcamp  "
      ]
     },
     "execution_count": 10,
     "metadata": {},
     "output_type": "execute_result"
    }
   ],
   "source": [
    "df.head(5)"
   ]
  },
  {
   "cell_type": "code",
   "execution_count": 11,
   "id": "a47c46ba-9036-4066-bbb0-b4ef68abceda",
   "metadata": {},
   "outputs": [
    {
     "name": "stdout",
     "output_type": "stream",
     "text": [
      "The 75th percentile of the scores is: 31.67430877685547\n"
     ]
    }
   ],
   "source": [
    "evaluations = []\n",
    "\n",
    "for _, row in df.iterrows():\n",
    "    emb_llm = embedding_model.encode(row.answer_llm)\n",
    "    emb_orig = embedding_model.encode(row.answer_orig)  \n",
    "    score = compute_dot_product(emb_llm, emb_orig)\n",
    "    evaluations.append(score)\n",
    "\n",
    "percentile_75 = np.percentile(evaluations, 75)\n",
    "print(f\"The 75th percentile of the scores is: {percentile_75}\")"
   ]
  },
  {
   "cell_type": "markdown",
   "id": "ffc41ffb-0125-4c9d-8600-9b111f3a3365",
   "metadata": {},
   "source": [
    "## Q3. Computing the cosine\n",
    "\n",
    "From Q2, we can see that the results are not within the [0, 1] range. It's because the vectors coming from this model are not normalized.\n",
    "\n",
    "So we need to normalize them.\n",
    "\n",
    "To do it, we \n",
    "\n",
    "* Compute the norm of a vector\n",
    "* Divide each element by this norm\n",
    "\n",
    "So, for vector `v`, it'll be `v / ||v||`\n",
    "\n",
    "In numpy, this is how you do it:\n",
    "\n",
    "```python\n",
    "norm = np.sqrt((v * v).sum())\n",
    "v_norm = v / norm\n",
    "```\n",
    "\n",
    "Let's put it into a function and then compute dot product \n",
    "between normalized vectors. This will give us cosine similarity\n",
    "\n",
    "What's the 75% cosine in the scores?\n",
    "\n",
    "* 0.63\n",
    "* 0.73\n",
    "* **0.83**\n",
    "* 0.93"
   ]
  },
  {
   "cell_type": "code",
   "execution_count": 25,
   "id": "0095856e-793a-4556-a07c-b7e5f86e2104",
   "metadata": {},
   "outputs": [],
   "source": [
    "def normalize_vector(v):\n",
    "    norm = np.sqrt((v * v).sum())\n",
    "    return v / norm\n",
    "\n",
    "def compute_cosine_similarity(emb1, emb2):\n",
    "    emb1_norm = normalize_vector(emb1)\n",
    "    emb2_norm = normalize_vector(emb2)\n",
    "    return np.dot(emb1_norm, emb2_norm)"
   ]
  },
  {
   "cell_type": "code",
   "execution_count": 26,
   "id": "60c903ef-263e-4ee9-9451-dc3e776b4b7b",
   "metadata": {},
   "outputs": [
    {
     "name": "stdout",
     "output_type": "stream",
     "text": [
      "The 75th percentile of the cosine similarity scores is: 0.8362348973751068\n"
     ]
    }
   ],
   "source": [
    "evaluations = []\n",
    "\n",
    "for _, row in df.iterrows():\n",
    "    emb_llm = embedding_model.encode(row.answer_llm)\n",
    "    emb_orig = embedding_model.encode(row.answer_orig)\n",
    "    score = compute_cosine_similarity(emb_llm, emb_orig)\n",
    "    evaluations.append(score)\n",
    "\n",
    "percentile_75 = np.percentile(evaluations, 75)\n",
    "print(f\"The 75th percentile of the cosine similarity scores is: {percentile_75}\")"
   ]
  },
  {
   "cell_type": "markdown",
   "id": "630657cd-72d9-4452-9f2e-a003a7fdf9bc",
   "metadata": {},
   "source": [
    "## Q4. Rouge\n",
    "\n",
    "Now we will explore an alternative metric - the ROUGE score.  \n",
    "\n",
    "This is a set of metrics that compares two answers based on the overlap of n-grams, word sequences, and word pairs.\n",
    "\n",
    "It can give a more nuanced view of text similarity than just cosine similarity alone.\n",
    "\n",
    "We don't need to implement it ourselves, there's a python package for it:\n",
    "\n",
    "```bash\n",
    "pip install rouge\n",
    "```\n",
    "\n",
    "(The latest version at the moment of writing is `1.0.1`)\n",
    "\n",
    "Let's compute the ROUGE score between the answers at the index 10 of our dataframe (`doc_id=5170565b`)\n",
    "\n",
    "```\n",
    "from rouge import Rouge\n",
    "rouge_scorer = Rouge()\n",
    "\n",
    "scores = rouge_scorer.get_scores(r['answer_llm'], r['answer_orig'])[0]\n",
    "```\n",
    "\n",
    "There are three scores: `rouge-1`, `rouge-2` and `rouge-l`, and precision, recall and F1 score for each.\n",
    "\n",
    "* `rouge-1` - the overlap of unigrams,\n",
    "* `rouge-2` - bigrams,\n",
    "* `rouge-l` - the longest common subsequence\n",
    "\n",
    "What's the F score for `rouge-1`?\n",
    "\n",
    "- 0.35\n",
    "- **0.45**\n",
    "- 0.55\n",
    "- 0.65"
   ]
  },
  {
   "cell_type": "code",
   "execution_count": 17,
   "id": "2b19aba5-ec2a-4a08-ba85-4f0005254316",
   "metadata": {},
   "outputs": [],
   "source": [
    "# Initialize the ROUGE scorer\n",
    "rouge_scorer = Rouge()"
   ]
  },
  {
   "cell_type": "code",
   "execution_count": 18,
   "id": "957b0218-c4a8-4f1f-b32e-bc80bbbac491",
   "metadata": {},
   "outputs": [
    {
     "name": "stdout",
     "output_type": "stream",
     "text": [
      "answer_llm     Yes, all sessions are recorded, so if you miss...\n",
      "answer_orig    Everything is recorded, so you won’t miss anyt...\n",
      "document                                                5170565b\n",
      "question                    Are sessions recorded if I miss one?\n",
      "course                                 machine-learning-zoomcamp\n",
      "Name: 10, dtype: object\n"
     ]
    }
   ],
   "source": [
    "# Get the row at index 10\n",
    "r = df.iloc[10]\n",
    "\n",
    "print(r)"
   ]
  },
  {
   "cell_type": "code",
   "execution_count": 19,
   "id": "97b22a03-5acf-4467-b962-3a8fab4fa62c",
   "metadata": {},
   "outputs": [
    {
     "name": "stdout",
     "output_type": "stream",
     "text": [
      "{'rouge-1': {'r': 0.45454545454545453, 'p': 0.45454545454545453, 'f': 0.45454544954545456}, 'rouge-2': {'r': 0.21621621621621623, 'p': 0.21621621621621623, 'f': 0.21621621121621637}, 'rouge-l': {'r': 0.3939393939393939, 'p': 0.3939393939393939, 'f': 0.393939388939394}}\n"
     ]
    }
   ],
   "source": [
    "# Compute ROUGE scores\n",
    "scores = rouge_scorer.get_scores(r['answer_llm'], r['answer_orig'])[0]\n",
    "\n",
    "print(scores)"
   ]
  },
  {
   "cell_type": "code",
   "execution_count": 28,
   "id": "dcd7fa8e-72a7-4496-878a-10a899bfc886",
   "metadata": {},
   "outputs": [
    {
     "name": "stdout",
     "output_type": "stream",
     "text": [
      "rouge-1 F1: 0.45454544954545456\n"
     ]
    }
   ],
   "source": [
    "# Extract the F1 score for ROUGE-1\n",
    "rouge_1_f1 = scores['rouge-1']['f']\n",
    "print(f\"rouge-1 F1: {rouge_1_f1}\")"
   ]
  },
  {
   "cell_type": "markdown",
   "id": "a17ebb05-8eab-4b9b-b251-2ee530258303",
   "metadata": {},
   "source": [
    "## Q5. Average rouge score\n",
    "\n",
    "Let's compute the average between `rouge-1`, `rouge-2` and `rouge-l` for the same record from Q4\n",
    "\n",
    "- **0.35**\n",
    "- 0.45\n",
    "- 0.55\n",
    "- 0.65"
   ]
  },
  {
   "cell_type": "code",
   "execution_count": 22,
   "id": "e80f044c-00b0-40e9-931d-96f4311c9111",
   "metadata": {},
   "outputs": [],
   "source": [
    "# Extract F1 scores ROUGE-2, and ROUGE-L\n",
    "rouge_2_f1 = scores['rouge-2']['f']\n",
    "rouge_l_f1 = scores['rouge-l']['f']"
   ]
  },
  {
   "cell_type": "code",
   "execution_count": 23,
   "id": "e08cdd2b-7347-4853-996d-881ed0134381",
   "metadata": {},
   "outputs": [],
   "source": [
    "average_rouge = (rouge_1_f1 + rouge_2_f1 + rouge_l_f1) / 3"
   ]
  },
  {
   "cell_type": "code",
   "execution_count": 29,
   "id": "89dffa0e-5a34-452d-8afd-bee99ad083c6",
   "metadata": {},
   "outputs": [
    {
     "name": "stdout",
     "output_type": "stream",
     "text": [
      "rouge-2 F1: 0.21621621121621637\n",
      "rouge-l F1: 0.393939388939394\n",
      "Average rouge: 0.35490034990035496\n"
     ]
    }
   ],
   "source": [
    "print(f\"rouge-2 F1: {rouge_2_f1}\")\n",
    "print(f\"rouge-l F1: {rouge_l_f1}\")\n",
    "print(f\"Average rouge: {average_rouge}\")"
   ]
  },
  {
   "cell_type": "markdown",
   "id": "eac2f020-28c9-4642-952e-f84fc716a1e2",
   "metadata": {},
   "source": [
    "## Q6. Average rouge score for all the data points\n",
    "\n",
    "Now let's compute the score for all the records\n",
    "\n",
    "```python\n",
    "rouge_1 = scores['rouge-1']['f']\n",
    "rouge_2 = scores['rouge-2']['f']\n",
    "rouge_l = scores['rouge-l']['f']\n",
    "rouge_avg = (rouge_1 + rouge_2 + rouge_l) / 3\n",
    "```\n",
    "\n",
    "And create a dataframe from them\n",
    "\n",
    "What's the agerage `rouge_l` across all the records?\n",
    "\n",
    "- 0.10\n",
    "- 0.20\n",
    "- 0.30\n",
    "- **0.40**"
   ]
  },
  {
   "cell_type": "code",
   "execution_count": 30,
   "id": "de695cf3-faa4-4f72-b14b-66293aba52e1",
   "metadata": {},
   "outputs": [],
   "source": [
    "rouge_scorer = Rouge()\n",
    "rouge_l_scores = []\n",
    "\n",
    "for _, row in df.iterrows():\n",
    "    scores = rouge_scorer.get_scores(row['answer_llm'], row['answer_orig'])[0]\n",
    "    rouge_l = scores['rouge-l']['f']\n",
    "    rouge_l_scores.append(rouge_l)\n",
    "\n",
    "average_rouge_l = np.mean(rouge_l_scores)"
   ]
  },
  {
   "cell_type": "code",
   "execution_count": 31,
   "id": "49441c83-2c1e-4418-867b-85735142abe5",
   "metadata": {},
   "outputs": [
    {
     "name": "stdout",
     "output_type": "stream",
     "text": [
      "The average ROUGE-L score across all records is: 0.3538074656078652\n",
      "Rounded to one decimal places: 0.4\n"
     ]
    }
   ],
   "source": [
    "# Round to two decimal places\n",
    "rounded_average_rouge_l = round(average_rouge_l, 1)\n",
    "\n",
    "print(f\"The average ROUGE-L score across all records is: {average_rouge_l}\")\n",
    "print(f\"Rounded to one decimal places: {rounded_average_rouge_l}\")"
   ]
  }
 ],
 "metadata": {
  "kernelspec": {
   "display_name": "Python 3 (ipykernel)",
   "language": "python",
   "name": "python3"
  },
  "language_info": {
   "codemirror_mode": {
    "name": "ipython",
    "version": 3
   },
   "file_extension": ".py",
   "mimetype": "text/x-python",
   "name": "python",
   "nbconvert_exporter": "python",
   "pygments_lexer": "ipython3",
   "version": "3.10.13"
  }
 },
 "nbformat": 4,
 "nbformat_minor": 5
}
